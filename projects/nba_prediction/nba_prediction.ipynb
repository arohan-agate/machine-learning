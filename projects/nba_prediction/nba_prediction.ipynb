{
 "cells": [
  {
   "cell_type": "code",
   "execution_count": 1,
   "id": "c97e4b55-205d-4dae-842a-3f465f65e67d",
   "metadata": {},
   "outputs": [],
   "source": [
    "import pandas as pd\n",
    "import seaborn as sns\n",
    "from sklearn.preprocessing import StandardScaler\n",
    "from sklearn.model_selection import train_test_split\n",
    "from sklearn.linear_model import LogisticRegression\n",
    "from sklearn.metrics import accuracy_score"
   ]
  },
  {
   "cell_type": "code",
   "execution_count": 39,
   "id": "9b18bda6-d1af-4c1b-afb3-351595f09bae",
   "metadata": {},
   "outputs": [],
   "source": [
    "df = pd.read_csv(\"data.csv\")\n",
    "df = df.dropna()"
   ]
  },
  {
   "cell_type": "code",
   "execution_count": 40,
   "id": "8d7df73e-16cc-4ba0-88d3-f89811403245",
   "metadata": {},
   "outputs": [],
   "source": [
    "# df"
   ]
  },
  {
   "cell_type": "code",
   "execution_count": 41,
   "id": "f1e3366f-4f47-4b57-804f-b6924c14eb19",
   "metadata": {},
   "outputs": [
    {
     "name": "stdout",
     "output_type": "stream",
     "text": [
      "<class 'pandas.core.frame.DataFrame'>\n",
      "Index: 417 entries, 65 to 23843\n",
      "Data columns (total 35 columns):\n",
      " #   Column        Non-Null Count  Dtype  \n",
      "---  ------        --------------  -----  \n",
      " 0   seas_id       417 non-null    int64  \n",
      " 1   season        417 non-null    int64  \n",
      " 2   player_id     417 non-null    int64  \n",
      " 3   player        417 non-null    object \n",
      " 4   birth_year    417 non-null    float64\n",
      " 5   pos           417 non-null    object \n",
      " 6   age           417 non-null    float64\n",
      " 7   experience    417 non-null    int64  \n",
      " 8   lg            417 non-null    object \n",
      " 9   tm            417 non-null    object \n",
      " 10  g             417 non-null    int64  \n",
      " 11  gs            417 non-null    float64\n",
      " 12  mp            417 non-null    float64\n",
      " 13  fg            417 non-null    int64  \n",
      " 14  fga           417 non-null    int64  \n",
      " 15  fg_percent    417 non-null    float64\n",
      " 16  x3p           417 non-null    float64\n",
      " 17  x3pa          417 non-null    float64\n",
      " 18  x3p_percent   417 non-null    float64\n",
      " 19  x2p           417 non-null    int64  \n",
      " 20  x2pa          417 non-null    int64  \n",
      " 21  x2p_percent   417 non-null    float64\n",
      " 22  e_fg_percent  417 non-null    float64\n",
      " 23  ft            417 non-null    int64  \n",
      " 24  fta           417 non-null    int64  \n",
      " 25  ft_percent    417 non-null    float64\n",
      " 26  orb           417 non-null    float64\n",
      " 27  drb           417 non-null    float64\n",
      " 28  trb           417 non-null    float64\n",
      " 29  ast           417 non-null    int64  \n",
      " 30  stl           417 non-null    float64\n",
      " 31  blk           417 non-null    float64\n",
      " 32  tov           417 non-null    float64\n",
      " 33  pf            417 non-null    int64  \n",
      " 34  pts           417 non-null    int64  \n",
      "dtypes: float64(17), int64(14), object(4)\n",
      "memory usage: 117.3+ KB\n"
     ]
    }
   ],
   "source": [
    "df.info()"
   ]
  },
  {
   "cell_type": "code",
   "execution_count": 42,
   "id": "472ad838-4b82-48f5-93ff-cee257c21f92",
   "metadata": {},
   "outputs": [],
   "source": [
    "df['starter'] = df.apply(lambda row: 1 if row['gs'] / row['g'] > 0.5 else 0, axis=1)"
   ]
  },
  {
   "cell_type": "code",
   "execution_count": 43,
   "id": "99d6b7df-7a16-4528-8d75-da851e955039",
   "metadata": {},
   "outputs": [],
   "source": [
    "# df['starter'].value_counts().plot(kind='bar')"
   ]
  },
  {
   "cell_type": "code",
   "execution_count": 44,
   "id": "52594f2f-d72e-430e-8649-d28393a09f70",
   "metadata": {},
   "outputs": [],
   "source": [
    "y = df['starter']\n",
    "X = df.drop(['starter', 'player', 'pos', 'lg', 'tm'], axis = 1)"
   ]
  },
  {
   "cell_type": "code",
   "execution_count": 45,
   "id": "812d53f9-e1bd-4379-a13a-a01f40ed5886",
   "metadata": {},
   "outputs": [],
   "source": [
    "scaler = StandardScaler()\n",
    "X_scaled = scaler.fit_transform(X)"
   ]
  },
  {
   "cell_type": "code",
   "execution_count": 46,
   "id": "d605aecb-51a4-4eef-801c-521426382f7b",
   "metadata": {},
   "outputs": [],
   "source": [
    "X_train, X_test, y_train, y_test = train_test_split(X_scaled, y, random_state = 1)"
   ]
  },
  {
   "cell_type": "code",
   "execution_count": 47,
   "id": "388b744e-be10-4360-8928-3ac5c9c2bbe1",
   "metadata": {},
   "outputs": [],
   "source": [
    "lr = LogisticRegression()\n",
    "lr.fit(X_train, y_train)\n",
    "y_pred = lr.predict(X_test)"
   ]
  },
  {
   "cell_type": "code",
   "execution_count": 48,
   "id": "9e13f399-7d02-416f-b0d8-81721fe335eb",
   "metadata": {},
   "outputs": [
    {
     "name": "stdout",
     "output_type": "stream",
     "text": [
      "Accuracy = 0.9619047619047619\n"
     ]
    }
   ],
   "source": [
    "accuracy = accuracy_score(y_test, y_pred)\n",
    "print(f\"Accuracy = {accuracy}\")"
   ]
  },
  {
   "cell_type": "code",
   "execution_count": 50,
   "id": "429f5c1d-9bf9-407a-926b-be41e35d183c",
   "metadata": {},
   "outputs": [
    {
     "name": "stdout",
     "output_type": "stream",
     "text": [
      "Indices of inaccurate predictions: [2, 12, 49, 94]\n"
     ]
    }
   ],
   "source": [
    "inaccurate_indices = [i for i in range(len(y_test)) if y_pred[i] != y_test.iloc[i]]\n",
    "\n",
    "print(\"Indices of inaccurate predictions:\", inaccurate_indices)"
   ]
  },
  {
   "cell_type": "code",
   "execution_count": null,
   "id": "e418710c-03a5-4b74-8751-5318fc7ecc86",
   "metadata": {},
   "outputs": [],
   "source": []
  }
 ],
 "metadata": {
  "kernelspec": {
   "display_name": "Python 3 (ipykernel)",
   "language": "python",
   "name": "python3"
  },
  "language_info": {
   "codemirror_mode": {
    "name": "ipython",
    "version": 3
   },
   "file_extension": ".py",
   "mimetype": "text/x-python",
   "name": "python",
   "nbconvert_exporter": "python",
   "pygments_lexer": "ipython3",
   "version": "3.11.7"
  }
 },
 "nbformat": 4,
 "nbformat_minor": 5
}
