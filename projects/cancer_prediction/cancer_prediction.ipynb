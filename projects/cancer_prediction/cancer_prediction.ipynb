{
 "cells": [
  {
   "cell_type": "code",
   "execution_count": 51,
   "id": "7eb5d514-6c5c-48ac-8d01-8b2ef40d57e2",
   "metadata": {},
   "outputs": [],
   "source": [
    "import pandas as pd\n",
    "import seaborn as sns\n",
    "from sklearn.preprocessing import StandardScaler\n",
    "from sklearn.model_selection import train_test_split\n",
    "from sklearn.linear_model import LogisticRegression\n",
    "from sklearn.metrics import accuracy_score"
   ]
  },
  {
   "cell_type": "code",
   "execution_count": 36,
   "id": "5d9b2143-eb34-4429-ae8b-64a68a833c76",
   "metadata": {},
   "outputs": [],
   "source": [
    "df = pd.read_csv('data.csv')\n",
    "# df.info()\n",
    "# df.describe()"
   ]
  },
  {
   "cell_type": "code",
   "execution_count": 37,
   "id": "0611eed2-2815-463a-90ba-3cf85e559bed",
   "metadata": {},
   "outputs": [],
   "source": [
    "# sns.heatmap(df.isnull())\n",
    "df.drop([\"Unnamed: 32\", \"id\"], axis=1, inplace=True)"
   ]
  },
  {
   "cell_type": "code",
   "execution_count": 38,
   "id": "57029ca3-163e-4b56-9683-db2a2cd38730",
   "metadata": {},
   "outputs": [],
   "source": [
    "# Turning Ms and Bs into 1s and 0s\n",
    "df.diagnosis = [1 if value == \"M\" else 0 for value in df.diagnosis]"
   ]
  },
  {
   "cell_type": "code",
   "execution_count": 39,
   "id": "ea59c51d-e77c-4652-a54e-3df58e1edff7",
   "metadata": {},
   "outputs": [
    {
     "data": {
      "text/plain": [
       "<Axes: xlabel='diagnosis'>"
      ]
     },
     "execution_count": 39,
     "metadata": {},
     "output_type": "execute_result"
    },
    {
     "data": {
      "image/png": "[encoded data removed]",
      "text/plain": [
       "<Figure size 640x480 with 1 Axes>"
      ]
     },
     "metadata": {},
     "output_type": "display_data"
    }
   ],
   "source": [
    "df['diagnosis'].value_counts().plot(kind='bar')"
   ]
  },
  {
   "cell_type": "code",
   "execution_count": 41,
   "id": "8d9ca6ba-d024-4d25-990e-f18a3c50928d",
   "metadata": {},
   "outputs": [],
   "source": [
    "# divide data into target and predictor\n",
    "y = df['diagnosis'] # the diagnosis\n",
    "X = df.drop(['diagnosis'], axis=1) # all data besides for the diagonosis"
   ]
  },
  {
   "cell_type": "code",
   "execution_count": 45,
   "id": "52ba61f2-01d6-491f-baea-ead7f8c3e116",
   "metadata": {},
   "outputs": [],
   "source": [
    "# normalizing data\n",
    "scaler = StandardScaler()\n",
    "X_scaled = scaler.fit_transform(X)"
   ]
  },
  {
   "cell_type": "code",
   "execution_count": 47,
   "id": "28706252-88c9-48ee-ad07-7bd6b8a13f07",
   "metadata": {},
   "outputs": [],
   "source": [
    "# split the data into train and test sets\n",
    "X_train, X_test, y_train, y_test = train_test_split(X_scaled, y, test_size = 0.30, random_state = 1)"
   ]
  },
  {
   "cell_type": "code",
   "execution_count": 50,
   "id": "f3d423e4-32bb-4b5e-ba92-7de46f044ac1",
   "metadata": {},
   "outputs": [],
   "source": [
    "# training the model\n",
    "lr = LogisticRegression()\n",
    "\n",
    "# train the model on the training data\n",
    "lr.fit(X_train, y_train)\n",
    "\n",
    "# predict the target variable on the test data\n",
    "y_pred = lr.predict(X_test)"
   ]
  },
  {
   "cell_type": "code",
   "execution_count": 52,
   "id": "13f6a0fe-bfe5-4371-9f56-4a27bc47b7f1",
   "metadata": {},
   "outputs": [
    {
     "name": "stdout",
     "output_type": "stream",
     "text": [
      "Accuracy: 0.9707602339181286\n"
     ]
    }
   ],
   "source": [
    "# evaluate the model\n",
    "accuracy = accuracy_score(y_test, y_pred)\n",
    "print(f\"Accuracy: {accuracy}\")"
   ]
  },
  {
   "cell_type": "code",
   "execution_count": null,
   "id": "998fbbca-2c9f-477b-8bc5-28133e805e3f",
   "metadata": {},
   "outputs": [],
   "source": []
  }
 ],
 "metadata": {
  "kernelspec": {
   "display_name": "Python 3 (ipykernel)",
   "language": "python",
   "name": "python3"
  },
  "language_info": {
   "codemirror_mode": {
    "name": "ipython",
    "version": 3
   },
   "file_extension": ".py",
   "mimetype": "text/x-python",
   "name": "python",
   "nbconvert_exporter": "python",
   "pygments_lexer": "ipython3",
   "version": "3.11.7"
  }
 },
 "nbformat": 4,
 "nbformat_minor": 5
}
