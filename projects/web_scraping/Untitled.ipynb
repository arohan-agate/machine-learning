{
 "cells": [
  {
   "cell_type": "code",
   "execution_count": 2,
   "id": "1e28d31f-3d5a-4e9b-9ae3-9552e1e12fd3",
   "metadata": {},
   "outputs": [],
   "source": [
    "from bs4 import BeautifulSoup as bs\n",
    "import requests"
   ]
  },
  {
   "cell_type": "code",
   "execution_count": 4,
   "id": "28547b0a-d1a2-4d74-b806-20f04f50b45f",
   "metadata": {},
   "outputs": [],
   "source": [
    "url = r'https://www.basketball-reference.com/players/p/paulch01.html'\n",
    "res = requests.get(url)\n",
    "content = res.content"
   ]
  },
  {
   "cell_type": "code",
   "execution_count": 5,
   "id": "edd6bbbf-4a01-4f2b-99aa-a40892cabeb5",
   "metadata": {},
   "outputs": [],
   "source": [
    "soup = bs(content, 'html.parser')"
   ]
  },
  {
   "cell_type": "code",
   "execution_count": 7,
   "id": "4df1de65-acee-4374-aaf6-9074e2be7b95",
   "metadata": {},
   "outputs": [],
   "source": [
    "table = soup.find('table')"
   ]
  },
  {
   "cell_type": "code",
   "execution_count": 8,
   "id": "99ac0247-5971-4909-9fab-adc8bde7b084",
   "metadata": {},
   "outputs": [
    {
     "name": "stdout",
     "output_type": "stream",
     "text": [
      "<class 'bs4.element.Tag'>\n"
     ]
    }
   ],
   "source": [
    "print(type(table))"
   ]
  },
  {
   "cell_type": "code",
   "execution_count": 9,
   "id": "88792c94-3a30-46b5-be78-8f16cfc58abe",
   "metadata": {},
   "outputs": [
    {
     "data": {
      "text/plain": [
       "<table class=\"sortable stats_table\" data-cols-to-freeze=\"1,3\" id=\"projection\">\n",
       "<caption>2024-25 Projection Table</caption>\n",
       "<colgroup><col/><col/><col/><col/><col/><col/><col/><col/><col/><col/><col/><col/><col/><col/><col/><col/><col/><col/><col/><col/><col/></colgroup>\n",
       "<thead>\n",
       "<tr class=\"over_header\">\n",
       "<th aria-label=\"\" class=\"over_header center\" colspan=\"3\" data-stat=\"\"></th>\n",
       "<th aria-label=\"\" class=\"over_header center\" colspan=\"14\" data-stat=\"header_per_mp\">Per 36 Minutes</th>\n",
       "<th aria-label=\"\" class=\"over_header center\" colspan=\"3\" data-stat=\"header_shooting\">Shooting</th><th></th>\n",
       "</tr>\n",
       "<tr>\n",
       "<th aria-label=\"Season\" class=\"poptip sort_default_asc center\" data-stat=\"season\" data-tip=\"If listed as single number, the year the season ended.&lt;br&gt;★ - Indicates All-Star for league.&lt;br&gt;Only on regular season tables.\" scope=\"col\">Season</th>\n",
       "<th aria-label=\"Age\" class=\"poptip sort_default_asc center\" data-stat=\"age\" data-tip=\"Player's age on February 1 of the season\" scope=\"col\">Age</th>\n",
       "<th aria-label=\"Lg\" class=\"poptip sort_default_asc center\" data-stat=\"lg_id\" data-tip=\"League\" scope=\"col\">Lg</th>\n",
       "<th aria-label=\"Field Goals Per 36 Minutes\" class=\"poptip center\" data-over-header=\"Per 36 Minutes\" data-stat=\"fg_per_mp\" data-tip=\"Field Goals Per 36 Minutes\" scope=\"col\">FG</th>\n",
       "<th aria-label=\"Field Goal Attempts Per 36 Minutes\" class=\"poptip center\" data-over-header=\"Per 36 Minutes\" data-stat=\"fga_per_mp\" data-tip=\"Field Goal Attempts Per 36 Minutes\" scope=\"col\">FGA</th>\n",
       "<th aria-label=\"3-Point Field Goals Per 36 Minutes\" class=\"poptip center\" data-over-header=\"Per 36 Minutes\" data-stat=\"fg3_per_mp\" data-tip=\"3-Point Field Goals Per 36 Minutes\" scope=\"col\">3P</th>\n",
       "<th aria-label=\"3-Point Field Goal Attempts Per 36 Minutes\" class=\"poptip center\" data-over-header=\"Per 36 Minutes\" data-stat=\"fg3a_per_mp\" data-tip=\"3-Point Field Goal Attempts Per 36 Minutes\" scope=\"col\">3PA</th>\n",
       "<th aria-label=\"Free Throws Per 36 Minutes\" class=\"poptip center\" data-over-header=\"Per 36 Minutes\" data-stat=\"ft_per_mp\" data-tip=\"Free Throws Per 36 Minutes\" scope=\"col\">FT</th>\n",
       "<th aria-label=\"Free Throw Attempts Per 36 Minutes\" class=\"poptip center\" data-over-header=\"Per 36 Minutes\" data-stat=\"fta_per_mp\" data-tip=\"Free Throw Attempts Per 36 Minutes\" scope=\"col\">FTA</th>\n",
       "<th aria-label=\"Offensive Rebounds Per 36 Minutes\" class=\"poptip center\" data-over-header=\"Per 36 Minutes\" data-stat=\"orb_per_mp\" data-tip=\"Offensive Rebounds Per 36 Minutes\" scope=\"col\">ORB</th>\n",
       "<th aria-label=\"Total Rebounds Per 36 Minutes\" class=\"poptip center\" data-over-header=\"Per 36 Minutes\" data-stat=\"trb_per_mp\" data-tip=\"Total Rebounds Per 36 Minutes\" scope=\"col\">TRB</th>\n",
       "<th aria-label=\"Assists Per 36 Minutes\" class=\"poptip center\" data-over-header=\"Per 36 Minutes\" data-stat=\"ast_per_mp\" data-tip=\"Assists Per 36 Minutes\" scope=\"col\">AST</th>\n",
       "<th aria-label=\"Steals Per 36 Minutes\" class=\"poptip center\" data-over-header=\"Per 36 Minutes\" data-stat=\"stl_per_mp\" data-tip=\"Steals Per 36 Minutes\" scope=\"col\">STL</th>\n",
       "<th aria-label=\"Blocks Per 36 Minutes\" class=\"poptip center\" data-over-header=\"Per 36 Minutes\" data-stat=\"blk_per_mp\" data-tip=\"Blocks Per 36 Minutes\" scope=\"col\">BLK</th>\n",
       "<th aria-label=\"Turnovers Per 36 Minutes\" class=\"poptip center\" data-over-header=\"Per 36 Minutes\" data-stat=\"tov_per_mp\" data-tip=\"Turnovers Per 36 Minutes\" scope=\"col\">TOV</th>\n",
       "<th aria-label=\"Personal Fouls Per 36 Minutes\" class=\"poptip center\" data-over-header=\"Per 36 Minutes\" data-stat=\"pf_per_mp\" data-tip=\"Personal Fouls Per 36 Minutes\" scope=\"col\">PF</th>\n",
       "<th aria-label=\"Points Per 36 Minutes\" class=\"poptip center\" data-over-header=\"Per 36 Minutes\" data-stat=\"pts_per_mp\" data-tip=\"Points Per 36 Minutes\" scope=\"col\">PTS</th>\n",
       "<th aria-label=\"Field Goal Percentage\" class=\"poptip center\" data-over-header=\"Shooting\" data-stat=\"fg_pct\" data-tip=\"Field Goal Percentage\" scope=\"col\">FG%</th>\n",
       "<th aria-label=\"3-Point Field Goal Percentage\" class=\"poptip center\" data-over-header=\"Shooting\" data-stat=\"fg3_pct\" data-tip=\"3-Point Field Goal Percentage\" scope=\"col\">3P%</th>\n",
       "<th aria-label=\"Free Throw Percentage\" class=\"poptip center\" data-over-header=\"Shooting\" data-stat=\"ft_pct\" data-tip=\"Free Throw Percentage\" scope=\"col\">FT%</th>\n",
       "<th aria-label=\"Win Shares Per 48 Minutes\" class=\"poptip center\" data-over-header=\"Advanced\" data-stat=\"ws_per_48\" data-tip=\"&lt;b&gt;Win Shares Per 48 Minutes&lt;/b&gt;&lt;br&gt;An estimate of the number of wins contributed by a player per 48 minutes (league average is approximately .100)\" scope=\"col\">WS/48</th>\n",
       "</tr>\n",
       "</thead>\n",
       "<tbody><tr><th class=\"left\" data-stat=\"season\" scope=\"row\">2024-25</th><td class=\"right\" data-stat=\"age\">39</td><td class=\"left\" data-stat=\"lg_id\">NBA</td><td class=\"right\" data-stat=\"fg_per_mp\">5.2</td><td class=\"right\" data-stat=\"fga_per_mp\">11.8</td><td class=\"right\" data-stat=\"fg3_per_mp\">1.7</td><td class=\"right\" data-stat=\"fg3a_per_mp\">4.8</td><td class=\"right\" data-stat=\"ft_per_mp\">1.8</td><td class=\"right\" data-stat=\"fta_per_mp\">2.1</td><td class=\"right\" data-stat=\"orb_per_mp\">0.5</td><td class=\"right\" data-stat=\"trb_per_mp\">5.0</td><td class=\"right\" data-stat=\"ast_per_mp\">9.3</td><td class=\"right\" data-stat=\"stl_per_mp\">1.7</td><td class=\"right\" data-stat=\"blk_per_mp\">0.3</td><td class=\"right\" data-stat=\"tov_per_mp\">2.1</td><td class=\"right\" data-stat=\"pf_per_mp\">2.5</td><td class=\"right\" data-stat=\"pts_per_mp\">13.9</td><td class=\"right\" data-stat=\"fg_pct\">.438</td><td class=\"right\" data-stat=\"fg3_pct\">.358</td><td class=\"right\" data-stat=\"ft_pct\">.820</td><td class=\"right\" data-stat=\"ws_per_48\">.154</td></tr>\n",
       "</tbody></table>"
      ]
     },
     "execution_count": 9,
     "metadata": {},
     "output_type": "execute_result"
    }
   ],
   "source": [
    "table"
   ]
  },
  {
   "cell_type": "code",
   "execution_count": null,
   "id": "4bd3bbe6-e7dc-4215-aa5e-359494bad072",
   "metadata": {},
   "outputs": [],
   "source": []
  }
 ],
 "metadata": {
  "kernelspec": {
   "display_name": "Python 3 (ipykernel)",
   "language": "python",
   "name": "python3"
  },
  "language_info": {
   "codemirror_mode": {
    "name": "ipython",
    "version": 3
   },
   "file_extension": ".py",
   "mimetype": "text/x-python",
   "name": "python",
   "nbconvert_exporter": "python",
   "pygments_lexer": "ipython3",
   "version": "3.11.7"
  }
 },
 "nbformat": 4,
 "nbformat_minor": 5
}
